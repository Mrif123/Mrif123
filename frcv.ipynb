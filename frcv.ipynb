{
 "cells": [
  {
   "cell_type": "markdown",
   "id": "e110753c",
   "metadata": {},
   "source": [
    "# Installation of Packages/Modules"
   ]
  },
  {
   "cell_type": "code",
   "execution_count": 1,
   "id": "228408f1",
   "metadata": {},
   "outputs": [],
   "source": [
    "import face_recognition "
   ]
  },
  {
   "cell_type": "code",
   "execution_count": 7,
   "id": "4b616c8d",
   "metadata": {},
   "outputs": [
    {
     "name": "stdout",
     "output_type": "stream",
     "text": [
      "Microsoft Windows [Version 10.0.22621.2283]\n",
      "(c) Microsoft Corporation. All rights reserved.\n",
      "\n",
      "C:\\Users\\MOHAMMED RIFAIZ>pip install face-recognition\n",
      "Collecting face-recognition\n",
      "  Using cached face_recognition-1.3.0-py2.py3-none-any.whl (15 kB)\n",
      "Collecting face-recognition-models>=0.3.0 (from face-recognition)\n",
      "  Using cached face_recognition_models-0.3.0-py2.py3-none-any.whl\n",
      "Requirement already satisfied: Click>=6.0 in c:\\users\\mohammed rifaiz\\anaconda3\\lib\\site-packages (from face-recognition) (8.0.4)\n",
      "Collecting dlib>=19.7 (from face-recognition)\n",
      "  Using cached dlib-19.24.2.tar.gz (11.8 MB)\n",
      "  Installing build dependencies: started\n",
      "  Installing build dependencies: finished with status 'done'\n",
      "  Getting requirements to build wheel: started\n",
      "  Getting requirements to build wheel: finished with status 'done'\n",
      "  Preparing metadata (pyproject.toml): started\n",
      "  Preparing metadata (pyproject.toml): finished with status 'done'\n",
      "Requirement already satisfied: numpy in c:\\users\\mohammed rifaiz\\anaconda3\\lib\\site-packages (from face-recognition) (1.26.1)\n",
      "Requirement already satisfied: Pillow in c:\\users\\mohammed rifaiz\\anaconda3\\lib\\site-packages (from face-recognition) (9.4.0)\n",
      "Requirement already satisfied: colorama in c:\\users\\mohammed rifaiz\\anaconda3\\lib\\site-packages (from Click>=6.0->face-recognition) (0.4.6)\n",
      "Building wheels for collected packages: dlib\n",
      "  Building wheel for dlib (pyproject.toml): started\n",
      "  Building wheel for dlib (pyproject.toml): finished with status 'error'\n"
     ]
    },
    {
     "name": "stderr",
     "output_type": "stream",
     "text": [
      "  error: subprocess-exited-with-error\n",
      "  \n",
      "  Building wheel for dlib (pyproject.toml) did not run successfully.\n",
      "  exit code: 1\n",
      "  \n",
      "  [78 lines of output]\n",
      "  running bdist_wheel\n",
      "  running build\n",
      "  running build_ext\n",
      "  <string>:125: DeprecationWarning: distutils Version classes are deprecated. Use packaging.version instead.\n",
      "  Building extension for Python 3.11.5 | packaged by Anaconda, Inc. | (main, Sep 11 2023, 13:26:23) [MSC v.1916 64 bit (AMD64)]\n",
      "  Invoking CMake setup: 'cmake C:\\Users\\MOHAMMED RIFAIZ\\AppData\\Local\\Temp\\pip-install-x18_z91j\\dlib_77019a72e6e54ecd98cf64fcce05962c\\tools\\python -DCMAKE_LIBRARY_OUTPUT_DIRECTORY=C:\\Users\\MOHAMMED RIFAIZ\\AppData\\Local\\Temp\\pip-install-x18_z91j\\dlib_77019a72e6e54ecd98cf64fcce05962c\\build\\lib.win-amd64-cpython-311 -DPYTHON_EXECUTABLE=C:\\Users\\MOHAMMED RIFAIZ\\anaconda3\\python.exe -DCMAKE_LIBRARY_OUTPUT_DIRECTORY_RELEASE=C:\\Users\\MOHAMMED RIFAIZ\\AppData\\Local\\Temp\\pip-install-x18_z91j\\dlib_77019a72e6e54ecd98cf64fcce05962c\\build\\lib.win-amd64-cpython-311 -A x64'\n",
      "  -- Building for: NMake Makefiles\n",
      "  CMake Error at CMakeLists.txt:5 (message):\n",
      "  \n",
      "  \n",
      "  \n",
      "    !!!!!!!!!!!!!!!!!!!!!!!!!!!!!!!!!!!!!!!!!!!!!!!!!!!!!!!!!!!!!!!!!!!!!!!!!!!!!!!\n",
      "  \n",
      "  \n",
      "    You must use Visual Studio to build a python extension on windows.  If you\n",
      "    are getting this error it means you have not installed Visual C++.  Note\n",
      "    that there are many flavors of Visual Studio, like Visual Studio for C#\n",
      "    development.  You need to install Visual Studio for C++.\n",
      "  \n",
      "  \n",
      "    !!!!!!!!!!!!!!!!!!!!!!!!!!!!!!!!!!!!!!!!!!!!!!!!!!!!!!!!!!!!!!!!!!!!!!!!!!!!!!!\n",
      "  \n",
      "  \n",
      "  \n",
      "  \n",
      "  -- Configuring incomplete, errors occurred!\n",
      "  Traceback (most recent call last):\n",
      "    File \"C:\\Users\\MOHAMMED RIFAIZ\\anaconda3\\Lib\\site-packages\\pip\\_vendor\\pyproject_hooks\\_in_process\\_in_process.py\", line 353, in <module>\n",
      "      main()\n",
      "    File \"C:\\Users\\MOHAMMED RIFAIZ\\anaconda3\\Lib\\site-packages\\pip\\_vendor\\pyproject_hooks\\_in_process\\_in_process.py\", line 335, in main\n",
      "      json_out['return_val'] = hook(**hook_input['kwargs'])\n",
      "                               ^^^^^^^^^^^^^^^^^^^^^^^^^^^^\n",
      "    File \"C:\\Users\\MOHAMMED RIFAIZ\\anaconda3\\Lib\\site-packages\\pip\\_vendor\\pyproject_hooks\\_in_process\\_in_process.py\", line 251, in build_wheel\n",
      "      return _build_backend().build_wheel(wheel_directory, config_settings,\n",
      "             ^^^^^^^^^^^^^^^^^^^^^^^^^^^^^^^^^^^^^^^^^^^^^^^^^^^^^^^^^^^^^^\n",
      "    File \"C:\\Users\\MOHAMMED RIFAIZ\\AppData\\Local\\Temp\\pip-build-env-uisv8359\\overlay\\Lib\\site-packages\\setuptools\\build_meta.py\", line 434, in build_wheel\n",
      "      return self._build_with_temp_dir(\n",
      "             ^^^^^^^^^^^^^^^^^^^^^^^^^^\n",
      "    File \"C:\\Users\\MOHAMMED RIFAIZ\\AppData\\Local\\Temp\\pip-build-env-uisv8359\\overlay\\Lib\\site-packages\\setuptools\\build_meta.py\", line 419, in _build_with_temp_dir\n",
      "      self.run_setup()\n",
      "    File \"C:\\Users\\MOHAMMED RIFAIZ\\AppData\\Local\\Temp\\pip-build-env-uisv8359\\overlay\\Lib\\site-packages\\setuptools\\build_meta.py\", line 341, in run_setup\n",
      "      exec(code, locals())\n",
      "    File \"<string>\", line 218, in <module>\n",
      "    File \"C:\\Users\\MOHAMMED RIFAIZ\\AppData\\Local\\Temp\\pip-build-env-uisv8359\\overlay\\Lib\\site-packages\\setuptools\\__init__.py\", line 103, in setup\n",
      "      return distutils.core.setup(**attrs)\n",
      "             ^^^^^^^^^^^^^^^^^^^^^^^^^^^^^\n",
      "    File \"C:\\Users\\MOHAMMED RIFAIZ\\AppData\\Local\\Temp\\pip-build-env-uisv8359\\overlay\\Lib\\site-packages\\setuptools\\_distutils\\core.py\", line 185, in setup\n",
      "      return run_commands(dist)\n",
      "             ^^^^^^^^^^^^^^^^^^\n",
      "    File \"C:\\Users\\MOHAMMED RIFAIZ\\AppData\\Local\\Temp\\pip-build-env-uisv8359\\overlay\\Lib\\site-packages\\setuptools\\_distutils\\core.py\", line 201, in run_commands\n",
      "      dist.run_commands()\n",
      "    File \"C:\\Users\\MOHAMMED RIFAIZ\\AppData\\Local\\Temp\\pip-build-env-uisv8359\\overlay\\Lib\\site-packages\\setuptools\\_distutils\\dist.py\", line 969, in run_commands\n",
      "      self.run_command(cmd)\n",
      "    File \"C:\\Users\\MOHAMMED RIFAIZ\\AppData\\Local\\Temp\\pip-build-env-uisv8359\\overlay\\Lib\\site-packages\\setuptools\\dist.py\", line 989, in run_command\n",
      "      super().run_command(command)\n",
      "    File \"C:\\Users\\MOHAMMED RIFAIZ\\AppData\\Local\\Temp\\pip-build-env-uisv8359\\overlay\\Lib\\site-packages\\setuptools\\_distutils\\dist.py\", line 988, in run_command\n",
      "      cmd_obj.run()\n",
      "    File \"C:\\Users\\MOHAMMED RIFAIZ\\AppData\\Local\\Temp\\pip-build-env-uisv8359\\overlay\\Lib\\site-packages\\wheel\\bdist_wheel.py\", line 369, in run\n",
      "      self.run_command(\"build\")\n",
      "    File \"C:\\Users\\MOHAMMED RIFAIZ\\AppData\\Local\\Temp\\pip-build-env-uisv8359\\overlay\\Lib\\site-packages\\setuptools\\_distutils\\cmd.py\", line 318, in run_command\n",
      "      self.distribution.run_command(command)\n",
      "    File \"C:\\Users\\MOHAMMED RIFAIZ\\AppData\\Local\\Temp\\pip-build-env-uisv8359\\overlay\\Lib\\site-packages\\setuptools\\dist.py\", line 989, in run_command\n",
      "      super().run_command(command)\n",
      "    File \"C:\\Users\\MOHAMMED RIFAIZ\\AppData\\Local\\Temp\\pip-build-env-uisv8359\\overlay\\Lib\\site-packages\\setuptools\\_distutils\\dist.py\", line 988, in run_command\n",
      "      cmd_obj.run()\n",
      "    File \"C:\\Users\\MOHAMMED RIFAIZ\\AppData\\Local\\Temp\\pip-build-env-uisv8359\\overlay\\Lib\\site-packages\\setuptools\\_distutils\\command\\build.py\", line 131, in run\n",
      "      self.run_command(cmd_name)\n",
      "    File \"C:\\Users\\MOHAMMED RIFAIZ\\AppData\\Local\\Temp\\pip-build-env-uisv8359\\overlay\\Lib\\site-packages\\setuptools\\_distutils\\cmd.py\", line 318, in run_command\n",
      "      self.distribution.run_command(command)\n",
      "    File \"C:\\Users\\MOHAMMED RIFAIZ\\AppData\\Local\\Temp\\pip-build-env-uisv8359\\overlay\\Lib\\site-packages\\setuptools\\dist.py\", line 989, in run_command\n",
      "      super().run_command(command)\n",
      "    File \"C:\\Users\\MOHAMMED RIFAIZ\\AppData\\Local\\Temp\\pip-build-env-uisv8359\\overlay\\Lib\\site-packages\\setuptools\\_distutils\\dist.py\", line 988, in run_command\n",
      "      cmd_obj.run()\n",
      "    File \"<string>\", line 130, in run\n",
      "    File \"<string>\", line 167, in build_extension\n",
      "    File \"C:\\Users\\MOHAMMED RIFAIZ\\anaconda3\\Lib\\subprocess.py\", line 413, in check_call\n",
      "      raise CalledProcessError(retcode, cmd)\n",
      "  subprocess.CalledProcessError: Command '['cmake', 'C:\\\\Users\\\\MOHAMMED RIFAIZ\\\\AppData\\\\Local\\\\Temp\\\\pip-install-x18_z91j\\\\dlib_77019a72e6e54ecd98cf64fcce05962c\\\\tools\\\\python', '-DCMAKE_LIBRARY_OUTPUT_DIRECTORY=C:\\\\Users\\\\MOHAMMED RIFAIZ\\\\AppData\\\\Local\\\\Temp\\\\pip-install-x18_z91j\\\\dlib_77019a72e6e54ecd98cf64fcce05962c\\\\build\\\\lib.win-amd64-cpython-311', '-DPYTHON_EXECUTABLE=C:\\\\Users\\\\MOHAMMED RIFAIZ\\\\anaconda3\\\\python.exe', '-DCMAKE_LIBRARY_OUTPUT_DIRECTORY_RELEASE=C:\\\\Users\\\\MOHAMMED RIFAIZ\\\\AppData\\\\Local\\\\Temp\\\\pip-install-x18_z91j\\\\dlib_77019a72e6e54ecd98cf64fcce05962c\\\\build\\\\lib.win-amd64-cpython-311', '-A', 'x64']' returned non-zero exit status 1.\n",
      "  [end of output]\n",
      "  \n",
      "  note: This error originates from a subprocess, and is likely not a problem with pip.\n",
      "  ERROR: Failed building wheel for dlib\n",
      "ERROR: Could not build wheels for dlib, which is required to install pyproject.toml-based projects\n"
     ]
    },
    {
     "name": "stdout",
     "output_type": "stream",
     "text": [
      "Failed to build dlib\n",
      "\n",
      "C:\\Users\\MOHAMMED RIFAIZ>"
     ]
    }
   ],
   "source": [
    "%%cmd\n",
    "pip install face-recognition"
   ]
  },
  {
   "cell_type": "code",
   "execution_count": 8,
   "id": "0a605919",
   "metadata": {},
   "outputs": [
    {
     "name": "stdout",
     "output_type": "stream",
     "text": [
      "Microsoft Windows [Version 10.0.22621.2283]\n",
      "(c) Microsoft Corporation. All rights reserved.\n",
      "\n",
      "C:\\Users\\MOHAMMED RIFAIZ>pip install cmake\n",
      "Collecting cmake\n",
      "  Obtaining dependency information for cmake from https://files.pythonhosted.org/packages/38/d0/abe3d3b34bf81bf1d60332f81169fd66ba5f2d113dbfcc2c823cc495d686/cmake-3.27.7-py2.py3-none-win_amd64.whl.metadata\n",
      "  Using cached cmake-3.27.7-py2.py3-none-win_amd64.whl.metadata (6.8 kB)\n",
      "Using cached cmake-3.27.7-py2.py3-none-win_amd64.whl (34.6 MB)\n",
      "Installing collected packages: cmake\n",
      "Successfully installed cmake-3.27.7\n",
      "\n",
      "C:\\Users\\MOHAMMED RIFAIZ>"
     ]
    }
   ],
   "source": [
    "%%cmd\n",
    "pip install cmake"
   ]
  },
  {
   "cell_type": "code",
   "execution_count": 9,
   "id": "5e9286ba",
   "metadata": {},
   "outputs": [
    {
     "name": "stdout",
     "output_type": "stream",
     "text": [
      "Microsoft Windows [Version 10.0.22621.2283]\n",
      "(c) Microsoft Corporation. All rights reserved.\n",
      "\n",
      "C:\\Users\\MOHAMMED RIFAIZ>python --version\n",
      "Python 3.11.5\n",
      "\n",
      "C:\\Users\\MOHAMMED RIFAIZ>"
     ]
    }
   ],
   "source": [
    "%%cmd \n",
    "python --version"
   ]
  },
  {
   "cell_type": "code",
   "execution_count": 10,
   "id": "cb7129a9",
   "metadata": {},
   "outputs": [
    {
     "name": "stdout",
     "output_type": "stream",
     "text": [
      "Microsoft Windows [Version 10.0.22621.2283]\n",
      "(c) Microsoft Corporation. All rights reserved.\n",
      "\n",
      "C:\\Users\\MOHAMMED RIFAIZ>pip install \"C:\\Users\\MOHAMMED RIFAIZ\\Downloads\\dlib\\dlib-19.24.1-cp311-cp311-win_amd64.whl\"\n",
      "Processing c:\\users\\mohammed rifaiz\\downloads\\dlib\\dlib-19.24.1-cp311-cp311-win_amd64.whl\n",
      "Installing collected packages: dlib\n",
      "Successfully installed dlib-19.24.1\n",
      "\n",
      "C:\\Users\\MOHAMMED RIFAIZ>"
     ]
    }
   ],
   "source": [
    "%%cmd\n",
    "pip install \"C:\\Users\\MOHAMMED RIFAIZ\\Downloads\\dlib\\dlib-19.24.1-cp311-cp311-win_amd64.whl\""
   ]
  },
  {
   "cell_type": "code",
   "execution_count": 11,
   "id": "929add5a",
   "metadata": {},
   "outputs": [
    {
     "name": "stdout",
     "output_type": "stream",
     "text": [
      "Microsoft Windows [Version 10.0.22621.2283]\n",
      "(c) Microsoft Corporation. All rights reserved.\n",
      "\n",
      "C:\\Users\\MOHAMMED RIFAIZ>pip install face-recognition\n",
      "Collecting face-recognition\n",
      "  Using cached face_recognition-1.3.0-py2.py3-none-any.whl (15 kB)\n",
      "Collecting face-recognition-models>=0.3.0 (from face-recognition)\n",
      "  Using cached face_recognition_models-0.3.0-py2.py3-none-any.whl\n",
      "Requirement already satisfied: Click>=6.0 in c:\\users\\mohammed rifaiz\\anaconda3\\lib\\site-packages (from face-recognition) (8.0.4)\n",
      "Requirement already satisfied: dlib>=19.7 in c:\\users\\mohammed rifaiz\\anaconda3\\lib\\site-packages (from face-recognition) (19.24.1)\n",
      "Requirement already satisfied: numpy in c:\\users\\mohammed rifaiz\\anaconda3\\lib\\site-packages (from face-recognition) (1.26.1)\n",
      "Requirement already satisfied: Pillow in c:\\users\\mohammed rifaiz\\anaconda3\\lib\\site-packages (from face-recognition) (9.4.0)\n",
      "Requirement already satisfied: colorama in c:\\users\\mohammed rifaiz\\anaconda3\\lib\\site-packages (from Click>=6.0->face-recognition) (0.4.6)\n",
      "Installing collected packages: face-recognition-models, face-recognition\n",
      "Successfully installed face-recognition-1.3.0 face-recognition-models-0.3.0\n",
      "\n",
      "C:\\Users\\MOHAMMED RIFAIZ>"
     ]
    }
   ],
   "source": [
    "%%cmd\n",
    "pip install face-recognition"
   ]
  },
  {
   "cell_type": "markdown",
   "id": "fa836532",
   "metadata": {},
   "source": [
    "# Importing the required modules"
   ]
  },
  {
   "cell_type": "code",
   "execution_count": 1,
   "id": "53697048",
   "metadata": {},
   "outputs": [],
   "source": [
    "import face_recognition\n",
    "import cv2\n",
    "import numpy as np\n",
    "import csv\n",
    "import os\n",
    "from datetime import datetime"
   ]
  },
  {
   "cell_type": "code",
   "execution_count": 2,
   "id": "36ff1dbd",
   "metadata": {},
   "outputs": [
    {
     "name": "stdout",
     "output_type": "stream",
     "text": [
      "['Anirudh Sir.jpg', 'Aysha.jpg', 'Gokul Sir.jpg', 'jobs.jpg', 'Rifaiz.jpg', 'Sahil.jpg', 'tata.jpg', 'tesla.jpg', 'zuckerberg.jpg']\n",
      "['Anirudh Sir', 'Aysha', 'Gokul Sir', 'jobs', 'Rifaiz', 'Sahil', 'tata', 'tesla', 'zuckerberg']\n"
     ]
    }
   ],
   "source": [
    "path = r'C:\\\\Users\\MOHAMMED RIFAIZ\\photos'\n",
    "images = []\n",
    "classNames = []\n",
    "myList = os.listdir(path)\n",
    "print(myList)\n",
    "for cl in myList:\n",
    "    curImg = cv2.imread(f'{path}/{cl}')\n",
    "    images.append(curImg)\n",
    "    classNames.append(os.path.splitext(cl)[0])\n",
    "print(classNames)"
   ]
  },
  {
   "cell_type": "code",
   "execution_count": 3,
   "id": "a888580b",
   "metadata": {},
   "outputs": [],
   "source": [
    "def findEncodings(images):\n",
    "    encodeList = []\n",
    "\n",
    "\n",
    "    for img in images:\n",
    "        img = cv2.cvtColor(img, cv2.COLOR_BGR2RGB)\n",
    "        encode = face_recognition.face_encodings(img)[0]\n",
    "        encodeList.append(encode)\n",
    "    return encodeList"
   ]
  },
  {
   "cell_type": "code",
   "execution_count": 4,
   "id": "4d1717d7",
   "metadata": {},
   "outputs": [],
   "source": [
    "def markAttendance(name):\n",
    "    with open('Attendance.csv', 'r+') as f:\n",
    "        myDataList = f.readlines()\n",
    "\n",
    "\n",
    "        nameList = []\n",
    "        for line in myDataList:\n",
    "            entry = line.split(',')\n",
    "            nameList.append(entry[0])\n",
    "            if name not in nameList:\n",
    "                now = datetime.now()\n",
    "                dtString = now.strftime(\"%m/%d/%Y,%H:%M:%S\")\n",
    "                f.writelines(f'\\n{name},{dtString}')"
   ]
  },
  {
   "cell_type": "code",
   "execution_count": 5,
   "id": "57a09608",
   "metadata": {},
   "outputs": [
    {
     "name": "stdout",
     "output_type": "stream",
     "text": [
      "Encoding Complete\n"
     ]
    }
   ],
   "source": [
    "encodeListKnown = findEncodings(images)\n",
    "print('Encoding Complete')"
   ]
  },
  {
   "cell_type": "code",
   "execution_count": 6,
   "id": "0c21d5ab",
   "metadata": {},
   "outputs": [],
   "source": [
    "cap = cv2.VideoCapture(0)"
   ]
  },
  {
   "cell_type": "code",
   "execution_count": null,
   "id": "31518677",
   "metadata": {},
   "outputs": [],
   "source": [
    "while True:\n",
    "    success, img = cap.read()\n",
    "\n",
    "    imgS = cv2.resize(img, (0, 0), None, 0.25, 0.25)\n",
    "    imgS = cv2.cvtColor(imgS, cv2.COLOR_BGR2RGB)\n",
    "\n",
    "    facesCurFrame = face_recognition.face_locations(imgS)\n",
    "    encodesCurFrame = face_recognition.face_encodings(imgS, facesCurFrame)\n",
    "\n",
    "    for encodeFace, faceLoc in zip(encodesCurFrame, facesCurFrame):\n",
    "        matches = face_recognition.compare_faces(encodeListKnown, encodeFace)\n",
    "        faceDis = face_recognition.face_distance(encodeListKnown, encodeFace)\n",
    "\n",
    "        matchIndex = np.argmin(faceDis)\n",
    "\n",
    "        if matches[matchIndex]:\n",
    "            name = classNames[matchIndex].upper()\n",
    "\n",
    "            y1, x2, y2, x1 = faceLoc\n",
    "            y1, x2, y2, x1 = y1 * 4, x2 * 4, y2 * 4, x1 * 4\n",
    "            cv2.rectangle(img, (x1, y1), (x2, y2), (0, 255, 0), 2)\n",
    "            cv2.rectangle(img, (x1, y2 - 35), (x2, y2), (0, 255, 0), cv2.FILLED)\n",
    "            cv2.putText(img, name, (x1 + 6, y2 - 6), cv2.FONT_HERSHEY_COMPLEX, 1, (255, 255, 255), 2)\n",
    "            markAttendance(name)\n",
    "\n",
    "    cv2.imshow('Webcam', img)\n",
    "    if cv2.waitKey(1) & 0xFF == ord('q'):\n",
    "        break\n",
    "\n"
   ]
  },
  {
   "cell_type": "code",
   "execution_count": null,
   "id": "b442f30d",
   "metadata": {},
   "outputs": [],
   "source": []
  }
 ],
 "metadata": {
  "kernelspec": {
   "display_name": "Python 3 (ipykernel)",
   "language": "python",
   "name": "python3"
  },
  "language_info": {
   "codemirror_mode": {
    "name": "ipython",
    "version": 3
   },
   "file_extension": ".py",
   "mimetype": "text/x-python",
   "name": "python",
   "nbconvert_exporter": "python",
   "pygments_lexer": "ipython3",
   "version": "3.11.5"
  }
 },
 "nbformat": 4,
 "nbformat_minor": 5
}
